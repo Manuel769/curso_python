{
  "nbformat": 4,
  "nbformat_minor": 0,
  "metadata": {
    "colab": {
      "name": "Sesión 4, 5.ipynb",
      "provenance": [],
      "collapsed_sections": [],
      "authorship_tag": "ABX9TyNgQL0eB3dJMxH2NTu8WDz6",
      "include_colab_link": true
    },
    "kernelspec": {
      "name": "python3",
      "display_name": "Python 3"
    },
    "language_info": {
      "name": "python"
    }
  },
  "cells": [
    {
      "cell_type": "markdown",
      "metadata": {
        "id": "view-in-github",
        "colab_type": "text"
      },
      "source": [
        "<a href=\"https://colab.research.google.com/github/Manuel769/curso_python/blob/main/Sesi%C3%B3n_4%2C_5.ipynb\" target=\"_parent\"><img src=\"https://colab.research.google.com/assets/colab-badge.svg\" alt=\"Open In Colab\"/></a>"
      ]
    },
    {
      "cell_type": "code",
      "metadata": {
        "colab": {
          "base_uri": "https://localhost:8080/"
        },
        "id": "TIzko8HEz2Xn",
        "outputId": "eb8df2d6-7651-47d6-c4b8-fc810c359d36"
      },
      "source": [
        "class Persona(object):\n",
        "    \"\"\"Clase que representa una Persona\"\"\"\n",
        "\n",
        "    def __init__(self, cedula, nombre, apellido, sexo):\n",
        "        \"\"\"Constructor de clase Persona\"\"\"\n",
        "        self.cedula = cedula\n",
        "        self.nombre = nombre\n",
        "        self.apellido = apellido\n",
        "        self.sexo = sexo\n",
        "\n",
        "\n",
        "    def hablar(self, mensaje):\n",
        "        \"\"\"Mostrar mensaje de saludo de Persona\"\"\"\n",
        "        return mensaje\n",
        "\n",
        "\n",
        "    def getGenero(self):\n",
        "        \"\"\"Mostrar el genero de la Persona\"\"\"\n",
        "        genero = ('Masculino','Femenino')\n",
        "        if self.sexo == \"M\":\n",
        "            return genero[0]\n",
        "        elif self.sexo == \"F\":\n",
        "            return genero[1]\n",
        "        else:\n",
        "            return \"Desconocido\"\n",
        "    \n",
        "    def get_nombre_apellido(self):\n",
        "        return self.nombre +\" \"+ self.apellido\n",
        "    \n",
        "    def set_name(self, nuevo_nombre):\n",
        "        self.nombre = nuevo_nombre\n",
        "\n",
        "clase_persona = Persona(52362102,\"Pedro\",\"Ruiz\",\"M\")            \n",
        "print(clase_persona.getGenero())\n",
        "\n",
        "print(\"el nombre de la persona es:\", clase_persona.get_nombre_apellido())\n",
        "\n",
        "clase_persona.set_name(\"Luis\")\n",
        "print(\"el nombre de la persona es:\", clase_persona.get_nombre_apellido())\n",
        "\n",
        "\n",
        "\n"
      ],
      "execution_count": 6,
      "outputs": [
        {
          "output_type": "stream",
          "text": [
            "Masculino\n",
            "el nombre de la persona es: Pedro Ruiz\n",
            "el nombre de la persona es: Luis Ruiz\n"
          ],
          "name": "stdout"
        }
      ]
    },
    {
      "cell_type": "markdown",
      "metadata": {
        "id": "1NJl4DJxGyR8"
      },
      "source": [
        "Clase animal con dos variables; tipo del animal, forma de alimentación, cantidad de patas, tipo de habitat. Funciones que realicen los el animal."
      ]
    },
    {
      "cell_type": "code",
      "metadata": {
        "colab": {
          "base_uri": "https://localhost:8080/"
        },
        "id": "7d7b251ITdxg",
        "outputId": "9131030b-1529-4006-aff2-5ca26a3bc023"
      },
      "source": [
        "class Animal(object):\n",
        "    \"\"\"Clase que representa a un animal\"\"\"\n",
        "\n",
        "    def __init__(self, tipo, alimentacion, npatas, habitat, sonido):\n",
        "        \"\"\"Constructor de clase animal\"\"\"\n",
        "        self.tipo=tipo\n",
        "        self.alimentacion=alimentacion\n",
        "        self.npatas=npatas\n",
        "        self.habitat=habitat\n",
        "        self.sonido=sonido\n",
        "\n",
        "    def getTipo(self):\n",
        "        return self.tipo\n",
        "\n",
        "    def getComida(self):\n",
        "        comida = ('omnivoro', 'carnivoro', 'hervivoro', 'carroñero')\n",
        "        if self.alimentacion == \"o\":\n",
        "            return comida[0]\n",
        "        elif self.alimentacion == \"c\":\n",
        "            return comida[1]\n",
        "        elif self.alimentacion == \"h\":\n",
        "            return comida[2]\n",
        "        elif self.alimentacion == \"ca\":\n",
        "            return comida[3]\n",
        "        else:\n",
        "            return \"desconocido\"\n",
        "\n",
        "    def getNpatas(self):\n",
        "        patas = ('bipedo', 'cuadrupedo')\n",
        "        if self.npatas == 2:\n",
        "            return patas[0]\n",
        "        elif self.npatas == 4:\n",
        "            return patas[1]\n",
        "        else:\n",
        "            return \"desconocido\"\n",
        "\n",
        "    def getHabitat(self):\n",
        "        return self.habitat\n",
        "\n",
        "    def getSonido(self):\n",
        "        return self.sonido\n",
        "\n",
        "   \n",
        "clase_animal = Animal(\"León\", \"c\", 4, \"sabana\", \"rugido\")\n",
        "print(\"el animal es un \", clase_animal.getTipo())\n",
        "print(\"tiene 4 patas por lo tanto es: \", clase_animal.getNpatas())\n",
        "print(\"por su modo de alimentación es: \", clase_animal.getComida())\n",
        "\n",
        "\n"
      ],
      "execution_count": 2,
      "outputs": [
        {
          "output_type": "stream",
          "text": [
            "el animal es un  León\n",
            "tiene 4 patas por lo tanto es:  cuadrupedo\n",
            "por su modo de alimentación es:  carnivoro\n"
          ],
          "name": "stdout"
        }
      ]
    },
    {
      "cell_type": "markdown",
      "metadata": {
        "id": "PFDjntbPnKRC"
      },
      "source": [
        "herencia\n"
      ]
    },
    {
      "cell_type": "code",
      "metadata": {
        "colab": {
          "base_uri": "https://localhost:8080/"
        },
        "id": "S-34X5FWnL_A",
        "outputId": "bcaefab9-4c11-49f4-fa7e-ac9503481bba"
      },
      "source": [
        "class Persona(object):\n",
        "    \"\"\"Clase que representa una Persona\"\"\"\n",
        "\n",
        "    def __init__(self, cedula, nombre, apellido, sexo):\n",
        "        \"\"\"Constructor de clase Persona\"\"\"\n",
        "        self.cedula = cedula\n",
        "        self.nombre = nombre\n",
        "        self.apellido = apellido\n",
        "        self.sexo = sexo\n",
        "\n",
        "\n",
        "    def hablar(self, mensaje):\n",
        "        \"\"\"Mostrar mensaje de saludo de Persona\"\"\"\n",
        "        return mensaje\n",
        "\n",
        "\n",
        "    def getGenero(self):\n",
        "        \"\"\"Mostrar el genero de la Persona\"\"\"\n",
        "        genero = ('Masculino','Femenino')\n",
        "        if self.sexo == \"M\":\n",
        "            return genero[0]\n",
        "        elif self.sexo == \"F\":\n",
        "            return genero[1]\n",
        "        else:\n",
        "            return \"Desconocido\"\n",
        "    \n",
        "    def get_nombre_apellido(self):\n",
        "        return self.nombre +\" \"+ self.apellido\n",
        "    \n",
        "    def set_name(self, nuevo_nombre):\n",
        "        self.nombre = nuevo_nombre\n",
        "\n",
        "clase_persona = Persona(52362102,\"Pedro\",\"Ruiz\",\"M\")            \n",
        "print(clase_persona.getGenero())\n",
        "\n",
        "print(\"el nombre de la persona es:\", clase_persona.get_nombre_apellido())\n",
        "\n",
        "clase_persona.set_name(\"Luis\")\n",
        "print(\"el nombre de la persona es:\", clase_persona.get_nombre_apellido())\n",
        "\n",
        "\n"
      ],
      "execution_count": 7,
      "outputs": [
        {
          "output_type": "stream",
          "text": [
            "Masculino\n",
            "el nombre de la persona es: Pedro Ruiz\n",
            "el nombre de la persona es: Luis Ruiz\n"
          ],
          "name": "stdout"
        }
      ]
    },
    {
      "cell_type": "code",
      "metadata": {
        "colab": {
          "base_uri": "https://localhost:8080/"
        },
        "id": "isQEkj_3ye81",
        "outputId": "08564427-20d5-4ca2-b52c-0ab2f43f015e"
      },
      "source": [
        "class Supervisor(Persona):\n",
        "    \"\"\"Clase que representa a un Supervisor\"\"\"\n",
        "\n",
        "    def __init__(self, cedula, nombre, apellido, sexo, rol):\n",
        "        \"\"\"Constructor de clase Supervisor\"\"\"\n",
        "\n",
        "        # Invoca al constructor de clase Persona\n",
        "        Persona.__init__(self, cedula, nombre, apellido, sexo)\n",
        "\n",
        "        # Nuevos atributos\n",
        "        self.rol = rol\n",
        "        self.tareas = ['10','11','12','13']\n",
        "\n",
        "\n",
        "    def consulta_tareas(self):\n",
        "        \"\"\"Mostrar las tareas del Supervisor\"\"\"\n",
        "        return ', '.join(self.tareas)\n",
        "\n",
        "    def consulta_rol(self):\n",
        "        \"\"\"Mostrar las tareas del Supervisor\"\"\"\n",
        "        return self.rol\n",
        "\n",
        "\n",
        "supervisor = Supervisor(\"V-16987456\", \"Jen\", \"Paz\", \"M\", \"Técnico\")         \n",
        "print(supervisor.consulta_tareas())\n",
        "\n",
        "  \n",
        "print(supervisor.consulta_rol())\n",
        "print(supervisor.get_nombre_apellido())"
      ],
      "execution_count": 12,
      "outputs": [
        {
          "output_type": "stream",
          "text": [
            "10, 11, 12, 13\n",
            "Técnico\n",
            "Jen Paz\n"
          ],
          "name": "stdout"
        }
      ]
    },
    {
      "cell_type": "code",
      "metadata": {
        "colab": {
          "base_uri": "https://localhost:8080/"
        },
        "id": "1_xYqw1w95-2",
        "outputId": "eb2ad5aa-cf7f-48c2-8263-9f23c39c46e0"
      },
      "source": [
        "class Obrero(Persona):\n",
        "    \"\"\"Clase que representa a un Supervisor\"\"\"\n",
        "\n",
        "    def __init__(self, cedula, nombre, apellido, sexo, desempeño):\n",
        "        \"\"\"Constructor de clase Supervisor\"\"\"\n",
        "\n",
        "        # Invoca al constructor de clase Persona\n",
        "        Persona.__init__(self, cedula, nombre, apellido, sexo)\n",
        "\n",
        "        # Nuevos atributos\n",
        "        self.desempeño = desempeño\n",
        "        self.deberes = ['construye casas','pinta paredes','maneja maquinas']\n",
        "\n",
        "\n",
        "    def consulta_deberes(self):\n",
        "        \"\"\"Mostrar las tareas del Supervisor\"\"\"\n",
        "        return ', '.join(self.deberes)\n",
        "\n",
        "    def consulta_desempeño(self):\n",
        "        \"\"\"Mostrar las tareas del Supervisor\"\"\"\n",
        "        return self.desempeño\n",
        "\n",
        "obrero = Obrero(\"V-16987456\", \"Manuel\", \"Castillo\", \"M\", \"obrero\")         \n",
        "\n",
        "print(\"nombre y apellido: \",obrero.get_nombre_apellido())\n",
        "print(\"Genero: \",obrero.getGenero())\n",
        "print(\"cargo que desmpeña: \",obrero.consulta_desempeño())\n",
        "print(\"actividades que realiza: \",obrero.consulta_deberes())\n"
      ],
      "execution_count": 24,
      "outputs": [
        {
          "output_type": "stream",
          "text": [
            "nombre y apellido:  Manuel Castillo\n",
            "Genero:  Masculino\n",
            "cargo que desmpeña:  obrero\n",
            "actividades que realiza:  construye casas, pinta paredes, maneja maquinas\n"
          ],
          "name": "stdout"
        }
      ]
    },
    {
      "cell_type": "markdown",
      "metadata": {
        "id": "QvI2nlQICp-U"
      },
      "source": [
        "Manipulando Fecha y Cadenas"
      ]
    },
    {
      "cell_type": "code",
      "metadata": {
        "colab": {
          "base_uri": "https://localhost:8080/"
        },
        "id": "BOvIt5YzCvBo",
        "outputId": "ccbacbb2-a1e6-46af-b726-ecaf6c617a2c"
      },
      "source": [
        "import datetime as dt\n",
        "\n",
        "print(dt.time(1), \"1 Hora\")\n",
        "\n",
        "print(dt.time(2, 30), \"2 Horas y 30 minutos\")\n",
        "\n",
        "print(dt.time(3, 45, 30), \"3 Horas, 45 minutos y 30 segundos\")\n",
        "\n",
        "def get_hora(hora,minutos=0,segundos=0):\n",
        "  return dt.time(hora,minutos,segundos)\n",
        "\n",
        "\n",
        "print(\"La cuenta regresiva inicia en: \",get_hora(3, 45, 50))\n"
      ],
      "execution_count": 29,
      "outputs": [
        {
          "output_type": "stream",
          "text": [
            "01:00:00 1 Hora\n",
            "02:30:00 2 Horas y 30 minutos\n",
            "03:45:30 3 Horas, 45 minutos y 30 segundos\n",
            "La cuenta regresiva inicia en:  03:45:50\n"
          ],
          "name": "stdout"
        }
      ]
    },
    {
      "cell_type": "code",
      "metadata": {
        "colab": {
          "base_uri": "https://localhost:8080/"
        },
        "id": "XL4NC584EHw-",
        "outputId": "6b59d217-067c-4b9e-a93d-56b4c00dbe05"
      },
      "source": [
        "now = dt.datetime.now()\n",
        "print(now)\n",
        "\n",
        "print(now.year)\n",
        "print(now.month)\n",
        "print(now.day)"
      ],
      "execution_count": 34,
      "outputs": [
        {
          "output_type": "stream",
          "text": [
            "2021-06-27 20:27:09.598683\n",
            "2021\n",
            "6\n",
            "27\n"
          ],
          "name": "stdout"
        }
      ]
    },
    {
      "cell_type": "code",
      "metadata": {
        "colab": {
          "base_uri": "https://localhost:8080/"
        },
        "id": "rTD6UN1sKD7C",
        "outputId": "ce2def0e-dbc9-4a8c-b204-9082379b8802"
      },
      "source": [
        "navidad_date = dt.datetime(2021, 12, 25)\n",
        "print(navidad_date)"
      ],
      "execution_count": 37,
      "outputs": [
        {
          "output_type": "stream",
          "text": [
            "2021-12-25 00:00:00\n"
          ],
          "name": "stdout"
        }
      ]
    },
    {
      "cell_type": "code",
      "metadata": {
        "colab": {
          "base_uri": "https://localhost:8080/"
        },
        "id": "8rYR_v7lKa0n",
        "outputId": "a42998a2-5be3-4904-8b64-a055f0d37b27"
      },
      "source": [
        "diff = navidad_date - now\n",
        "print(diff)\n",
        "type(diff)"
      ],
      "execution_count": 38,
      "outputs": [
        {
          "output_type": "stream",
          "text": [
            "180 days, 3:32:50.401317\n"
          ],
          "name": "stdout"
        },
        {
          "output_type": "execute_result",
          "data": {
            "text/plain": [
              "datetime.timedelta"
            ]
          },
          "metadata": {
            "tags": []
          },
          "execution_count": 38
        }
      ]
    },
    {
      "cell_type": "code",
      "metadata": {
        "colab": {
          "base_uri": "https://localhost:8080/"
        },
        "id": "uwvuMlemKsQo",
        "outputId": "59a6fc19-4925-42e1-d0c6-0ca81a1a553f"
      },
      "source": [
        "inc = dt.timedelta(days=30, hours=0)\n",
        "print(now)\n",
        "print(inc)\n",
        "print(now + inc)"
      ],
      "execution_count": 40,
      "outputs": [
        {
          "output_type": "stream",
          "text": [
            "2021-06-27 20:27:09.598683\n",
            "30 days, 0:00:00\n",
            "2021-07-27 20:27:09.598683\n"
          ],
          "name": "stdout"
        }
      ]
    },
    {
      "cell_type": "markdown",
      "metadata": {
        "id": "epkyKFfqMUzD"
      },
      "source": [
        "\n",
        "String to Datetime"
      ]
    },
    {
      "cell_type": "code",
      "metadata": {
        "colab": {
          "base_uri": "https://localhost:8080/"
        },
        "id": "exkRcwtAMVzA",
        "outputId": "777d1e79-7162-4790-c543-9141110ce279"
      },
      "source": [
        "import datetime as dt\n",
        "str_date = \"18071994 200830\"\n",
        "print(type(str_date))\n",
        "str_date = dt.datetime.strptime(str_date,\"%d%m%Y %H%M%S\")\n",
        "print(str_date)\n",
        "type(str_date)"
      ],
      "execution_count": 8,
      "outputs": [
        {
          "output_type": "stream",
          "text": [
            "<class 'str'>\n",
            "1994-07-18 20:08:30\n"
          ],
          "name": "stdout"
        },
        {
          "output_type": "execute_result",
          "data": {
            "text/plain": [
              "datetime.datetime"
            ]
          },
          "metadata": {
            "tags": []
          },
          "execution_count": 8
        }
      ]
    },
    {
      "cell_type": "markdown",
      "metadata": {
        "id": "aAFP4lxh_mBu"
      },
      "source": [
        "Cadenas(Strings)"
      ]
    },
    {
      "cell_type": "code",
      "metadata": {
        "colab": {
          "base_uri": "https://localhost:8080/"
        },
        "id": "8FB8pCjM_k83",
        "outputId": "6b96eb8e-c32b-454f-d33d-beb6a267bd51"
      },
      "source": [
        "s1 = 'fundamentos de programación en Python. '\n",
        "'568' in s1"
      ],
      "execution_count": 13,
      "outputs": [
        {
          "output_type": "execute_result",
          "data": {
            "text/plain": [
              "False"
            ]
          },
          "metadata": {
            "tags": []
          },
          "execution_count": 13
        }
      ]
    },
    {
      "cell_type": "code",
      "metadata": {
        "colab": {
          "base_uri": "https://localhost:8080/"
        },
        "id": "33PIsTXNAqYC",
        "outputId": "306eb181-0683-4dcd-cc75-c6ac1d95f691"
      },
      "source": [
        "len(s1)"
      ],
      "execution_count": 14,
      "outputs": [
        {
          "output_type": "execute_result",
          "data": {
            "text/plain": [
              "39"
            ]
          },
          "metadata": {
            "tags": []
          },
          "execution_count": 14
        }
      ]
    },
    {
      "cell_type": "code",
      "metadata": {
        "colab": {
          "base_uri": "https://localhost:8080/"
        },
        "id": "7BfrIVX5BA3P",
        "outputId": "8072e1d4-db09-4a3e-e222-71ed8ee79b18"
      },
      "source": [
        "#Funciones de desplazamiento\n",
        "print('String centrado:')\n",
        "print(s1.center(50))\n",
        "print(s1.center(50, '_'))\n",
        "\n",
        "print('\\n\\nAlineado a la izquierda:')\n",
        "print(s1.ljust(50))\n",
        "print(s1.ljust(50, '<'))\n",
        "\n",
        "print('\\n\\nAlineado a la derecha:')\n",
        "print(s1.rjust(50))\n",
        "print(s1.rjust(50, '>'))\n",
        "\n",
        "print('\\n\\nCompletar con 0')\n",
        "print('-123.45'.zfill(4))\n",
        "print('-123.45'.zfill(12))"
      ],
      "execution_count": 15,
      "outputs": [
        {
          "output_type": "stream",
          "text": [
            "String centrado:\n",
            "     fundamentos de programación en Python.       \n",
            "_____fundamentos de programación en Python. ______\n",
            "\n",
            "\n",
            "Alineado a la izquierda:\n",
            "fundamentos de programación en Python.            \n",
            "fundamentos de programación en Python. <<<<<<<<<<<\n",
            "\n",
            "\n",
            "Alineado a la derecha:\n",
            "           fundamentos de programación en Python. \n",
            ">>>>>>>>>>>fundamentos de programación en Python. \n",
            "\n",
            "\n",
            "Completar con 0\n",
            "-123.45\n",
            "-00000123.45\n"
          ],
          "name": "stdout"
        }
      ]
    },
    {
      "cell_type": "code",
      "metadata": {
        "colab": {
          "base_uri": "https://localhost:8080/"
        },
        "id": "7gyiNAJwBiwg",
        "outputId": "a6876c8d-52d5-4266-daa6-18ad76bcfbe8"
      },
      "source": [
        "#Funciones de texto\n",
        "s1 = 'el motivo de mi RECLAMO es la demora en la entrega del producto que compré ONLINE, pésimo servicio.'\n",
        "\n",
        "print('Minúsculas:\\n', s1.lower())\n",
        "print('\\nMayúsculas:\\n', s1.upper())\n",
        "\n",
        "print('\\nPrimera letra en mayúscula:\\n', s1.capitalize())\n",
        "print('\\nPrimera letra de cada palabra en mayúscula:\\n', s1.title())\n",
        "\n",
        "print('\\nIntercambiar entre mayúsculas y minúsculas:\\n', s1.swapcase())"
      ],
      "execution_count": 16,
      "outputs": [
        {
          "output_type": "stream",
          "text": [
            "Minúsculas:\n",
            " el motivo de mi reclamo es la demora en la entrega del producto que compré online, pésimo servicio.\n",
            "\n",
            "Mayúsculas:\n",
            " EL MOTIVO DE MI RECLAMO ES LA DEMORA EN LA ENTREGA DEL PRODUCTO QUE COMPRÉ ONLINE, PÉSIMO SERVICIO.\n",
            "\n",
            "Primera letra en mayúscula:\n",
            " El motivo de mi reclamo es la demora en la entrega del producto que compré online, pésimo servicio.\n",
            "\n",
            "Primera letra de cada palabra en mayúscula:\n",
            " El Motivo De Mi Reclamo Es La Demora En La Entrega Del Producto Que Compré Online, Pésimo Servicio.\n",
            "\n",
            "Intercambiar entre mayúsculas y minúsculas:\n",
            " EL MOTIVO DE MI reclamo ES LA DEMORA EN LA ENTREGA DEL PRODUCTO QUE COMPRÉ online, PÉSIMO SERVICIO.\n"
          ],
          "name": "stdout"
        }
      ]
    },
    {
      "cell_type": "code",
      "metadata": {
        "colab": {
          "base_uri": "https://localhost:8080/"
        },
        "id": "TmRtBRLGFE0u",
        "outputId": "56b94405-6558-478c-f714-8fc72cab68f6"
      },
      "source": [
        "#Otras funciones\n",
        "s1 = '2020'\n",
        "s2 = 'python'\n",
        "s3 = 'Python'\n",
        "s4 = 'PythonDMC'\n",
        "s5 = 'Python-DMC'\n",
        "\n",
        "#s1.isnumeric(),  s2.isnumeric(),  s3.isnumeric(),  s4.isnumeric(),  s5.isnumeric()\n",
        "s1.isalpha(),    s2.isalpha(),    s3.isalpha(),    s4.isalpha(),    s5.isalpha()\n",
        "s1.islower(),    s2.islower(),    s3.islower(),    s4.islower(),    s5.islower()\n",
        "s1.isalnum(),    s2.isalnum(),    s3.isalnum(),    s4.isalnum(),    s5.isalnum()\n"
      ],
      "execution_count": 19,
      "outputs": [
        {
          "output_type": "execute_result",
          "data": {
            "text/plain": [
              "(True, True, True, True, False)"
            ]
          },
          "metadata": {
            "tags": []
          },
          "execution_count": 19
        }
      ]
    },
    {
      "cell_type": "code",
      "metadata": {
        "colab": {
          "base_uri": "https://localhost:8080/"
        },
        "id": "UHrtuwkQFlBz",
        "outputId": "41bf7a0f-514f-45ae-fa99-bfa7b4c5d329"
      },
      "source": [
        "#Reemplazar, buscar y dividir.\n",
        "\n",
        "s = 'Python es un lenguaje de tipado dinamico.'\n",
        "\n",
        "lista_palabras = s.split(\",\")\n",
        "print(lista_palabras)"
      ],
      "execution_count": 22,
      "outputs": [
        {
          "output_type": "stream",
          "text": [
            "['Python es un lenguaje de tipado dinamico.']\n"
          ],
          "name": "stdout"
        }
      ]
    }
  ]
}