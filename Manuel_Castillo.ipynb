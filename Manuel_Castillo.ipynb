{
  "nbformat": 4,
  "nbformat_minor": 0,
  "metadata": {
    "colab": {
      "name": "Manuel_Castillo.ipynb",
      "provenance": [],
      "authorship_tag": "ABX9TyOE8g/a+TFO4Tei8+SjFFM/",
      "include_colab_link": true
    },
    "kernelspec": {
      "name": "python3",
      "display_name": "Python 3"
    },
    "language_info": {
      "name": "python"
    }
  },
  "cells": [
    {
      "cell_type": "markdown",
      "metadata": {
        "id": "view-in-github",
        "colab_type": "text"
      },
      "source": [
        "<a href=\"https://colab.research.google.com/github/Manuel769/curso_python/blob/main/Manuel_Castillo.ipynb\" target=\"_parent\"><img src=\"https://colab.research.google.com/assets/colab-badge.svg\" alt=\"Open In Colab\"/></a>"
      ]
    },
    {
      "cell_type": "code",
      "metadata": {
        "colab": {
          "base_uri": "https://localhost:8080/"
        },
        "id": "LW91x2fH-SBl",
        "outputId": "18168619-530a-4873-807d-a7770f58f5fd"
      },
      "source": [
        "x = 8\n",
        "nombre = \"manuel\" \n",
        "#x= nombre\n",
        "y= x\n",
        "print(\"el valor de y es:\", y)\n",
        "type(x)"
      ],
      "execution_count": 10,
      "outputs": [
        {
          "output_type": "stream",
          "text": [
            "el valor de y es: 8\n"
          ],
          "name": "stdout"
        },
        {
          "output_type": "execute_result",
          "data": {
            "text/plain": [
              "int"
            ]
          },
          "metadata": {
            "tags": []
          },
          "execution_count": 10
        }
      ]
    },
    {
      "cell_type": "code",
      "metadata": {
        "colab": {
          "base_uri": "https://localhost:8080/"
        },
        "id": "jT9C62jVF2-N",
        "outputId": "e29cf522-e755-4a55-8b92-8f7dab95288e"
      },
      "source": [
        "variable_verdadera= True\n",
        "variable_falsa= False\n",
        "\n",
        "type(variable_verdadera)\n"
      ],
      "execution_count": 12,
      "outputs": [
        {
          "output_type": "execute_result",
          "data": {
            "text/plain": [
              "bool"
            ]
          },
          "metadata": {
            "tags": []
          },
          "execution_count": 12
        }
      ]
    },
    {
      "cell_type": "code",
      "metadata": {
        "colab": {
          "base_uri": "https://localhost:8080/"
        },
        "id": "mBsfE_VKJPRf",
        "outputId": "ddd35fa7-f468-4526-dd99-8ab51227a875"
      },
      "source": [
        "bool(25)"
      ],
      "execution_count": 13,
      "outputs": [
        {
          "output_type": "execute_result",
          "data": {
            "text/plain": [
              "True"
            ]
          },
          "metadata": {
            "tags": []
          },
          "execution_count": 13
        }
      ]
    },
    {
      "cell_type": "code",
      "metadata": {
        "colab": {
          "base_uri": "https://localhost:8080/"
        },
        "id": "cclRJDAfJSAr",
        "outputId": "a98c98a0-5f30-49e2-d6aa-3a6ca5b39979"
      },
      "source": [
        "#numero binario\n",
        "Binario= 0b1111\n",
        "Binario"
      ],
      "execution_count": 15,
      "outputs": [
        {
          "output_type": "execute_result",
          "data": {
            "text/plain": [
              "15"
            ]
          },
          "metadata": {
            "tags": []
          },
          "execution_count": 15
        }
      ]
    },
    {
      "cell_type": "code",
      "metadata": {
        "colab": {
          "base_uri": "https://localhost:8080/",
          "height": 35
        },
        "id": "Q-cEvvwFJuuc",
        "outputId": "815bf595-8383-4b8d-8ebe-733596794332"
      },
      "source": [
        "cadena= \"cadena de texto\"\n",
        "cadena"
      ],
      "execution_count": 16,
      "outputs": [
        {
          "output_type": "execute_result",
          "data": {
            "application/vnd.google.colaboratory.intrinsic+json": {
              "type": "string"
            },
            "text/plain": [
              "'cadena de texto'"
            ]
          },
          "metadata": {
            "tags": []
          },
          "execution_count": 16
        }
      ]
    },
    {
      "cell_type": "code",
      "metadata": {
        "colab": {
          "base_uri": "https://localhost:8080/",
          "height": 35
        },
        "id": "bRfDdF9TJ5Ot",
        "outputId": "dc3a74a7-f279-445a-8f70-88f1d7a88441"
      },
      "source": [
        "cadena= \"\"\"cadena de texto \n",
        "con mas de una linea. Se debe\n",
        "usar triple comilla\"\"\"\n",
        "cadena"
      ],
      "execution_count": 17,
      "outputs": [
        {
          "output_type": "execute_result",
          "data": {
            "application/vnd.google.colaboratory.intrinsic+json": {
              "type": "string"
            },
            "text/plain": [
              "'cadena de texto\\ncon mas de una linea. Se debe\\nusar triple comilla'"
            ]
          },
          "metadata": {
            "tags": []
          },
          "execution_count": 17
        }
      ]
    },
    {
      "cell_type": "code",
      "metadata": {
        "colab": {
          "base_uri": "https://localhost:8080/"
        },
        "id": "7A7h8oEwKUlN",
        "outputId": "0e5681ea-8e07-4bc7-d5df-13a14f2b3374"
      },
      "source": [
        "cadena=8\n",
        "cadena2= cadena + 1\n",
        "cadena2"
      ],
      "execution_count": 20,
      "outputs": [
        {
          "output_type": "execute_result",
          "data": {
            "text/plain": [
              "9"
            ]
          },
          "metadata": {
            "tags": []
          },
          "execution_count": 20
        }
      ]
    },
    {
      "cell_type": "code",
      "metadata": {
        "colab": {
          "base_uri": "https://localhost:8080/",
          "height": 35
        },
        "id": "S_qt7tuqRQDh",
        "outputId": "ebe7825b-3017-47c2-fadd-6f67bcca07d6"
      },
      "source": [
        "x= \"manuel\"\n",
        "y= \"castillo\"\n",
        "d= x + y\n",
        "d"
      ],
      "execution_count": 23,
      "outputs": [
        {
          "output_type": "execute_result",
          "data": {
            "application/vnd.google.colaboratory.intrinsic+json": {
              "type": "string"
            },
            "text/plain": [
              "'manuelcastillo'"
            ]
          },
          "metadata": {
            "tags": []
          },
          "execution_count": 23
        }
      ]
    }
  ]
}