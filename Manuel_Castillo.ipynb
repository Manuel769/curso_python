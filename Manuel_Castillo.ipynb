{
  "nbformat": 4,
  "nbformat_minor": 0,
  "metadata": {
    "colab": {
      "name": "Manuel_Castillo.ipynb",
      "provenance": [],
      "authorship_tag": "ABX9TyPJ2RsTDo8pS3e1fvPRVxpo",
      "include_colab_link": true
    },
    "kernelspec": {
      "name": "python3",
      "display_name": "Python 3"
    },
    "language_info": {
      "name": "python"
    }
  },
  "cells": [
    {
      "cell_type": "markdown",
      "metadata": {
        "id": "view-in-github",
        "colab_type": "text"
      },
      "source": [
        "<a href=\"https://colab.research.google.com/github/Manuel769/curso_python/blob/main/Manuel_Castillo.ipynb\" target=\"_parent\"><img src=\"https://colab.research.google.com/assets/colab-badge.svg\" alt=\"Open In Colab\"/></a>"
      ]
    },
    {
      "cell_type": "code",
      "metadata": {
        "colab": {
          "base_uri": "https://localhost:8080/"
        },
        "id": "LW91x2fH-SBl",
        "outputId": "18168619-530a-4873-807d-a7770f58f5fd"
      },
      "source": [
        "x = 8\n",
        "nombre = \"manuel\" \n",
        "#x= nombre\n",
        "y= x\n",
        "print(\"el valor de y es:\", y)\n",
        "type(x)"
      ],
      "execution_count": 10,
      "outputs": [
        {
          "output_type": "stream",
          "text": [
            "el valor de y es: 8\n"
          ],
          "name": "stdout"
        },
        {
          "output_type": "execute_result",
          "data": {
            "text/plain": [
              "int"
            ]
          },
          "metadata": {
            "tags": []
          },
          "execution_count": 10
        }
      ]
    },
    {
      "cell_type": "code",
      "metadata": {
        "colab": {
          "base_uri": "https://localhost:8080/"
        },
        "id": "jT9C62jVF2-N",
        "outputId": "e29cf522-e755-4a55-8b92-8f7dab95288e"
      },
      "source": [
        "variable_verdadera= True\n",
        "variable_falsa= False\n",
        "\n",
        "type(variable_verdadera)\n"
      ],
      "execution_count": 12,
      "outputs": [
        {
          "output_type": "execute_result",
          "data": {
            "text/plain": [
              "bool"
            ]
          },
          "metadata": {
            "tags": []
          },
          "execution_count": 12
        }
      ]
    },
    {
      "cell_type": "code",
      "metadata": {
        "colab": {
          "base_uri": "https://localhost:8080/"
        },
        "id": "mBsfE_VKJPRf",
        "outputId": "ddd35fa7-f468-4526-dd99-8ab51227a875"
      },
      "source": [
        "bool(25)"
      ],
      "execution_count": 13,
      "outputs": [
        {
          "output_type": "execute_result",
          "data": {
            "text/plain": [
              "True"
            ]
          },
          "metadata": {
            "tags": []
          },
          "execution_count": 13
        }
      ]
    },
    {
      "cell_type": "code",
      "metadata": {
        "colab": {
          "base_uri": "https://localhost:8080/"
        },
        "id": "cclRJDAfJSAr",
        "outputId": "a98c98a0-5f30-49e2-d6aa-3a6ca5b39979"
      },
      "source": [
        "#numero binario\n",
        "Binario= 0b1111\n",
        "Binario"
      ],
      "execution_count": 15,
      "outputs": [
        {
          "output_type": "execute_result",
          "data": {
            "text/plain": [
              "15"
            ]
          },
          "metadata": {
            "tags": []
          },
          "execution_count": 15
        }
      ]
    },
    {
      "cell_type": "code",
      "metadata": {
        "colab": {
          "base_uri": "https://localhost:8080/",
          "height": 35
        },
        "id": "Q-cEvvwFJuuc",
        "outputId": "815bf595-8383-4b8d-8ebe-733596794332"
      },
      "source": [
        "cadena= \"cadena de texto\"\n",
        "cadena"
      ],
      "execution_count": 16,
      "outputs": [
        {
          "output_type": "execute_result",
          "data": {
            "application/vnd.google.colaboratory.intrinsic+json": {
              "type": "string"
            },
            "text/plain": [
              "'cadena de texto'"
            ]
          },
          "metadata": {
            "tags": []
          },
          "execution_count": 16
        }
      ]
    },
    {
      "cell_type": "code",
      "metadata": {
        "colab": {
          "base_uri": "https://localhost:8080/",
          "height": 35
        },
        "id": "bRfDdF9TJ5Ot",
        "outputId": "dc3a74a7-f279-445a-8f70-88f1d7a88441"
      },
      "source": [
        "cadena= \"\"\"cadena de texto \n",
        "con mas de una linea. Se debe\n",
        "usar triple comilla\"\"\"\n",
        "cadena"
      ],
      "execution_count": 17,
      "outputs": [
        {
          "output_type": "execute_result",
          "data": {
            "application/vnd.google.colaboratory.intrinsic+json": {
              "type": "string"
            },
            "text/plain": [
              "'cadena de texto\\ncon mas de una linea. Se debe\\nusar triple comilla'"
            ]
          },
          "metadata": {
            "tags": []
          },
          "execution_count": 17
        }
      ]
    },
    {
      "cell_type": "code",
      "metadata": {
        "colab": {
          "base_uri": "https://localhost:8080/"
        },
        "id": "7A7h8oEwKUlN",
        "outputId": "0e5681ea-8e07-4bc7-d5df-13a14f2b3374"
      },
      "source": [
        "cadena=8\n",
        "cadena2= cadena + 1\n",
        "cadena2"
      ],
      "execution_count": 20,
      "outputs": [
        {
          "output_type": "execute_result",
          "data": {
            "text/plain": [
              "9"
            ]
          },
          "metadata": {
            "tags": []
          },
          "execution_count": 20
        }
      ]
    },
    {
      "cell_type": "code",
      "metadata": {
        "colab": {
          "base_uri": "https://localhost:8080/",
          "height": 35
        },
        "id": "S_qt7tuqRQDh",
        "outputId": "ebe7825b-3017-47c2-fadd-6f67bcca07d6"
      },
      "source": [
        "x= \"manuel\"\n",
        "y= \"castillo\"\n",
        "d= x + y\n",
        "d"
      ],
      "execution_count": 23,
      "outputs": [
        {
          "output_type": "execute_result",
          "data": {
            "application/vnd.google.colaboratory.intrinsic+json": {
              "type": "string"
            },
            "text/plain": [
              "'manuelcastillo'"
            ]
          },
          "metadata": {
            "tags": []
          },
          "execution_count": 23
        }
      ]
    },
    {
      "cell_type": "code",
      "metadata": {
        "colab": {
          "base_uri": "https://localhost:8080/"
        },
        "id": "OacCPMyVmRIx",
        "outputId": "dcd3985e-7394-45ee-b578-284a3d42e391"
      },
      "source": [
        "Estudiante= [\"Manuel Castillo\", 22, True, \"Lima\"]\n",
        "print(Estudiante)\n"
      ],
      "execution_count": 26,
      "outputs": [
        {
          "output_type": "stream",
          "text": [
            "['Manuel Castillo', 22, True, 'Lima']\n"
          ],
          "name": "stdout"
        }
      ]
    },
    {
      "cell_type": "code",
      "metadata": {
        "colab": {
          "base_uri": "https://localhost:8080/"
        },
        "id": "IhekRn_ondLf",
        "outputId": "6dd49baf-38d8-4ebd-bc3e-571a06dc2bca"
      },
      "source": [
        "type(Estudiante)"
      ],
      "execution_count": 27,
      "outputs": [
        {
          "output_type": "execute_result",
          "data": {
            "text/plain": [
              "list"
            ]
          },
          "metadata": {
            "tags": []
          },
          "execution_count": 27
        }
      ]
    },
    {
      "cell_type": "code",
      "metadata": {
        "colab": {
          "base_uri": "https://localhost:8080/",
          "height": 35
        },
        "id": "YTK3JF_Znq_t",
        "outputId": "b490a92d-f5b0-46ca-eca6-702eb66a3e1e"
      },
      "source": [
        "#nombre y apellido\n",
        "nombre_apellido= Estudiante[0]\n",
        "nombre_apellido"
      ],
      "execution_count": 29,
      "outputs": [
        {
          "output_type": "execute_result",
          "data": {
            "application/vnd.google.colaboratory.intrinsic+json": {
              "type": "string"
            },
            "text/plain": [
              "'Manuel Castillo'"
            ]
          },
          "metadata": {
            "tags": []
          },
          "execution_count": 29
        }
      ]
    },
    {
      "cell_type": "code",
      "metadata": {
        "id": "_s_alzLQqIvu"
      },
      "source": [
        ""
      ],
      "execution_count": null,
      "outputs": []
    },
    {
      "cell_type": "code",
      "metadata": {
        "colab": {
          "base_uri": "https://localhost:8080/",
          "height": 35
        },
        "id": "LxU1Iwn0n7V3",
        "outputId": "91a29a74-e067-435a-f959-b079beea35ea"
      },
      "source": [
        "#departamento\n",
        "departamento= Estudiante[3]\n",
        "departamento"
      ],
      "execution_count": 30,
      "outputs": [
        {
          "output_type": "execute_result",
          "data": {
            "application/vnd.google.colaboratory.intrinsic+json": {
              "type": "string"
            },
            "text/plain": [
              "'Lima'"
            ]
          },
          "metadata": {
            "tags": []
          },
          "execution_count": 30
        }
      ]
    },
    {
      "cell_type": "code",
      "metadata": {
        "colab": {
          "base_uri": "https://localhost:8080/"
        },
        "id": "-Ttmu5ELofvm",
        "outputId": "1469be0b-dcc3-44e6-a1ce-bb681c1e2efa"
      },
      "source": [
        "#donde esta el index?\n",
        "Estudiante2= Estudiante[:2]\n",
        "Estudiante2"
      ],
      "execution_count": 31,
      "outputs": [
        {
          "output_type": "execute_result",
          "data": {
            "text/plain": [
              "['Manuel Castillo', 22]"
            ]
          },
          "metadata": {
            "tags": []
          },
          "execution_count": 31
        }
      ]
    },
    {
      "cell_type": "code",
      "metadata": {
        "colab": {
          "base_uri": "https://localhost:8080/"
        },
        "id": "fl0w_QgVqKYy",
        "outputId": "58a6f46e-1619-449a-eb3f-08f6851b6a5c"
      },
      "source": [
        "Estudiante2[-1]"
      ],
      "execution_count": 35,
      "outputs": [
        {
          "output_type": "execute_result",
          "data": {
            "text/plain": [
              "22"
            ]
          },
          "metadata": {
            "tags": []
          },
          "execution_count": 35
        }
      ]
    },
    {
      "cell_type": "code",
      "metadata": {
        "colab": {
          "base_uri": "https://localhost:8080/"
        },
        "id": "S2Wokh2vqpit",
        "outputId": "ce095edb-4e36-470e-bdc8-707f152851ef"
      },
      "source": [
        "Estudiante[1:3]"
      ],
      "execution_count": 36,
      "outputs": [
        {
          "output_type": "execute_result",
          "data": {
            "text/plain": [
              "[22, True]"
            ]
          },
          "metadata": {
            "tags": []
          },
          "execution_count": 36
        }
      ]
    },
    {
      "cell_type": "code",
      "metadata": {
        "colab": {
          "base_uri": "https://localhost:8080/"
        },
        "id": "jUvkg7aAqzWs",
        "outputId": "40c17907-e72c-43ab-adf2-bb4aeb7ffd3d"
      },
      "source": [
        "Estudiante[1:]"
      ],
      "execution_count": 37,
      "outputs": [
        {
          "output_type": "execute_result",
          "data": {
            "text/plain": [
              "[22, True, 'Lima']"
            ]
          },
          "metadata": {
            "tags": []
          },
          "execution_count": 37
        }
      ]
    },
    {
      "cell_type": "code",
      "metadata": {
        "colab": {
          "base_uri": "https://localhost:8080/"
        },
        "id": "5lX8j2VjrU9J",
        "outputId": "ee0a5720-9c50-4f1d-b815-bccd32426ee0"
      },
      "source": [
        "#actualización de lista\n",
        "Estudiante[0]= \"Manuel Antonny Castillo Navarro\"\n",
        "Estudiante"
      ],
      "execution_count": 38,
      "outputs": [
        {
          "output_type": "execute_result",
          "data": {
            "text/plain": [
              "['Manuel Antonny Castillo Navarro', 22, True, 'Lima']"
            ]
          },
          "metadata": {
            "tags": []
          },
          "execution_count": 38
        }
      ]
    },
    {
      "cell_type": "markdown",
      "metadata": {
        "id": "KDNT5AhHsBKL"
      },
      "source": [
        "TUPLA"
      ]
    },
    {
      "cell_type": "code",
      "metadata": {
        "colab": {
          "base_uri": "https://localhost:8080/"
        },
        "id": "oWexlQomsC7s",
        "outputId": "2f2bb628-b880-4b84-f66f-b2a3921f6490"
      },
      "source": [
        "Estudiante_tupla= \"Manuel Castillo\", 22, True, \"Lima\"\n",
        "Estudiante_tupla\n",
        "type(Estudiante_tupla)"
      ],
      "execution_count": 40,
      "outputs": [
        {
          "output_type": "execute_result",
          "data": {
            "text/plain": [
              "tuple"
            ]
          },
          "metadata": {
            "tags": []
          },
          "execution_count": 40
        }
      ]
    },
    {
      "cell_type": "code",
      "metadata": {
        "colab": {
          "base_uri": "https://localhost:8080/"
        },
        "id": "W-iMZfovseTc",
        "outputId": "e9e414d4-12ca-4807-86fe-cdfa8544316b"
      },
      "source": [
        "nombre_tupla= Estudiante_tupla[0]\n",
        "print(nombre_tupla)"
      ],
      "execution_count": 42,
      "outputs": [
        {
          "output_type": "stream",
          "text": [
            "Manuel Castillo\n"
          ],
          "name": "stdout"
        }
      ]
    },
    {
      "cell_type": "code",
      "metadata": {
        "colab": {
          "base_uri": "https://localhost:8080/"
        },
        "id": "edhRSSZlsyvk",
        "outputId": "c3e74f92-b8b5-47bd-bfb7-c987b022d6fd"
      },
      "source": [
        "Estudiante_tupla2= Estudiante_tupla[1:3]\n",
        "print(Estudiante_tupla2)"
      ],
      "execution_count": 45,
      "outputs": [
        {
          "output_type": "stream",
          "text": [
            "(22, True)\n"
          ],
          "name": "stdout"
        }
      ]
    },
    {
      "cell_type": "markdown",
      "metadata": {
        "id": "HaAko4CLw5gh"
      },
      "source": [
        "DICCIONARIO"
      ]
    },
    {
      "cell_type": "code",
      "metadata": {
        "colab": {
          "base_uri": "https://localhost:8080/"
        },
        "id": "3q_T07cSw8np",
        "outputId": "0ebf560a-8445-4875-cfd5-f5b104b556bb"
      },
      "source": [
        "Estudiante_diccionario={\n",
        "    \"nombre\": \"Manuel Castillo\",\n",
        "    \"edad\": 22,\n",
        "    \"es_estudiante\": True,\n",
        "    \"departamento\": \"Lima\"\n",
        "\n",
        "}\n",
        "print(Estudiante_diccionario)\n"
      ],
      "execution_count": 46,
      "outputs": [
        {
          "output_type": "stream",
          "text": [
            "{'nombre': 'Manuel Castillo', 'edad': 22, 'es_estudiante': True, 'departamento': 'Lima'}\n"
          ],
          "name": "stdout"
        }
      ]
    },
    {
      "cell_type": "code",
      "metadata": {
        "colab": {
          "base_uri": "https://localhost:8080/"
        },
        "id": "bgqbtJDlx71q",
        "outputId": "14a60e5b-6713-4e6e-e33d-c3f380910416"
      },
      "source": [
        "type(Estudiante_diccionario)"
      ],
      "execution_count": 47,
      "outputs": [
        {
          "output_type": "execute_result",
          "data": {
            "text/plain": [
              "dict"
            ]
          },
          "metadata": {
            "tags": []
          },
          "execution_count": 47
        }
      ]
    },
    {
      "cell_type": "code",
      "metadata": {
        "colab": {
          "base_uri": "https://localhost:8080/"
        },
        "id": "qpz8jw52x_De",
        "outputId": "08d6dc9f-355f-487b-bb8b-c6b5448364fe"
      },
      "source": [
        "Estudiante_diccionario[\"edad\"]"
      ],
      "execution_count": 48,
      "outputs": [
        {
          "output_type": "execute_result",
          "data": {
            "text/plain": [
              "22"
            ]
          },
          "metadata": {
            "tags": []
          },
          "execution_count": 48
        }
      ]
    },
    {
      "cell_type": "markdown",
      "metadata": {
        "id": "FIRyox9jzwnR"
      },
      "source": [
        "DATAFRAMES"
      ]
    },
    {
      "cell_type": "code",
      "metadata": {
        "colab": {
          "base_uri": "https://localhost:8080/"
        },
        "id": "s4O_rYWVz3SX",
        "outputId": "786a3c9e-d0ed-4e6d-b3d9-588c1884f4cf"
      },
      "source": [
        "import pandas as pd\n",
        "#Creando listas \n",
        "nombres=[\"Rossmery\", \"Sussan \", \"Kevin\", \"Nicolas\"]\n",
        "edad=[23,29,23,26]\n",
        "pais=[\"Ecuador\", \"Perú\", \"Brasil\", \"Argentina\"]\n",
        "educacion=[\"Bachiller\", \"Licenciado\", \"Bachiller\", \"PhD\"]\n",
        "\n",
        "print(pais)"
      ],
      "execution_count": 49,
      "outputs": [
        {
          "output_type": "stream",
          "text": [
            "['Ecuador', 'Perú', 'Brasil', 'Argentina']\n"
          ],
          "name": "stdout"
        }
      ]
    },
    {
      "cell_type": "code",
      "metadata": {
        "colab": {
          "base_uri": "https://localhost:8080/"
        },
        "id": "o8gZJ8R-0laU",
        "outputId": "fbbd0f4e-f5a9-4da4-e9e3-54de79314f2f"
      },
      "source": [
        "data={\n",
        "    \"nombres\": nombres,\n",
        "    \"pais\": pais,\n",
        "    \"edad\": edad,\n",
        "    \"educacion\": educacion\n",
        "\n",
        "}\n",
        "data"
      ],
      "execution_count": 52,
      "outputs": [
        {
          "output_type": "execute_result",
          "data": {
            "text/plain": [
              "{'edad': [23, 29, 23, 26],\n",
              " 'educacion': ['Bachiller', 'Licenciado', 'Bachiller', 'PhD'],\n",
              " 'nombres': ['Rossmery', 'Sussan ', 'Kevin', 'Nicolas'],\n",
              " 'pais': ['Ecuador', 'Perú', 'Brasil', 'Argentina']}"
            ]
          },
          "metadata": {
            "tags": []
          },
          "execution_count": 52
        }
      ]
    },
    {
      "cell_type": "code",
      "metadata": {
        "colab": {
          "base_uri": "https://localhost:8080/"
        },
        "id": "i_TgprxJ18a4",
        "outputId": "35a15b1b-b07d-45d4-e091-8bc415bc98f8"
      },
      "source": [
        "df_estudiantes = pd.DataFrame(data)\n",
        "print(df_estudiantes)"
      ],
      "execution_count": 53,
      "outputs": [
        {
          "output_type": "stream",
          "text": [
            "    nombres       pais  edad   educacion\n",
            "0  Rossmery    Ecuador    23   Bachiller\n",
            "1   Sussan        Perú    29  Licenciado\n",
            "2     Kevin     Brasil    23   Bachiller\n",
            "3   Nicolas  Argentina    26         PhD\n"
          ],
          "name": "stdout"
        }
      ]
    },
    {
      "cell_type": "code",
      "metadata": {
        "colab": {
          "base_uri": "https://localhost:8080/",
          "height": 80
        },
        "id": "bVmwQoNY2e04",
        "outputId": "ad307002-f699-4b51-c46a-c088ebc36e9e"
      },
      "source": [
        "df_estudiantes = pd.DataFrame(data)\n",
        "df_estudiantes[df_estudiantes[\"pais\"]==\"Brasil\"]"
      ],
      "execution_count": 60,
      "outputs": [
        {
          "output_type": "execute_result",
          "data": {
            "text/html": [
              "<div>\n",
              "<style scoped>\n",
              "    .dataframe tbody tr th:only-of-type {\n",
              "        vertical-align: middle;\n",
              "    }\n",
              "\n",
              "    .dataframe tbody tr th {\n",
              "        vertical-align: top;\n",
              "    }\n",
              "\n",
              "    .dataframe thead th {\n",
              "        text-align: right;\n",
              "    }\n",
              "</style>\n",
              "<table border=\"1\" class=\"dataframe\">\n",
              "  <thead>\n",
              "    <tr style=\"text-align: right;\">\n",
              "      <th></th>\n",
              "      <th>nombres</th>\n",
              "      <th>pais</th>\n",
              "      <th>edad</th>\n",
              "      <th>educacion</th>\n",
              "    </tr>\n",
              "  </thead>\n",
              "  <tbody>\n",
              "    <tr>\n",
              "      <th>2</th>\n",
              "      <td>Kevin</td>\n",
              "      <td>Brasil</td>\n",
              "      <td>23</td>\n",
              "      <td>Bachiller</td>\n",
              "    </tr>\n",
              "  </tbody>\n",
              "</table>\n",
              "</div>"
            ],
            "text/plain": [
              "  nombres    pais  edad  educacion\n",
              "2   Kevin  Brasil    23  Bachiller"
            ]
          },
          "metadata": {
            "tags": []
          },
          "execution_count": 60
        }
      ]
    }
  ]
}