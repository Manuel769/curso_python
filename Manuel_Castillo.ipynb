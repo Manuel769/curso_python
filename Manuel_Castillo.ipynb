{
  "nbformat": 4,
  "nbformat_minor": 0,
  "metadata": {
    "colab": {
      "name": "Manuel_Castillo.ipynb",
      "provenance": [],
      "authorship_tag": "ABX9TyMEIV+QmxBG367OrxAflWfw",
      "include_colab_link": true
    },
    "kernelspec": {
      "name": "python3",
      "display_name": "Python 3"
    },
    "language_info": {
      "name": "python"
    }
  },
  "cells": [
    {
      "cell_type": "markdown",
      "metadata": {
        "id": "view-in-github",
        "colab_type": "text"
      },
      "source": [
        "<a href=\"https://colab.research.google.com/github/Manuel769/curso_python/blob/main/Manuel_Castillo.ipynb\" target=\"_parent\"><img src=\"https://colab.research.google.com/assets/colab-badge.svg\" alt=\"Open In Colab\"/></a>"
      ]
    },
    {
      "cell_type": "code",
      "metadata": {
        "colab": {
          "base_uri": "https://localhost:8080/"
        },
        "id": "7bigFBHCZSMD",
        "outputId": "90aed1b6-9b8d-4172-9d34-3a1a5c5e7406"
      },
      "source": [
        "URL= \"https://es.wikipedia.org/wiki/Nelson_Mandela\"\n",
        "print(URL)\n"
      ],
      "execution_count": 1,
      "outputs": [
        {
          "output_type": "stream",
          "text": [
            "https://es.wikipedia.org/wiki/Nelson_Mandela\n"
          ],
          "name": "stdout"
        }
      ]
    },
    {
      "cell_type": "code",
      "metadata": {
        "id": "V5RTrWIQhXSn"
      },
      "source": [
        "wikipedia= {\n",
        "    \"nombre\":\"Nelson Mandela\",\n",
        "    \"nombre de nacimiento\":\"Rolihllahla Mandela\",\n",
        "    \"nombre en xhosa\":\"Nelson Rolihlahla Mandela\",\n",
        "    \"apodo\":\"Madiba\",\n",
        "    \"nacimiento\":\"18 de julio de 1918\",\n",
        "    \"edad\":\"fallecio a los 95 años\",\n",
        "    \"causa de su muerte\":\"Infección respiratoria aguda\",\n",
        "    \"sepultura\":\"Qunu\",\n",
        "    \"país\":\"Sudafrica\",\n",
        "    \"padres\":\"Gadla Henry Mphakanyiswa, Nosekeni Fanny\",\n",
        "    \"cónyuge\":\"Evelyn Mase,  Winnie Mandela, Graça Machel\",\n",
        "    \"hijos\":\"Madiba Thembi Thembekile, Mazawike Mandela,  Makgatho Mandela,  Makaziwe Mandela,  Zenani Mandela-Dlamini, Zindziswa Mandela-Hlongwane\",\n",
        "    \"estudio en\":\"Universidad de Fort Hare,  Universidad de Witwatersrand, Universidad de Sudáfrica (B.A.) \",\n",
        "    \"ideología\":\"nacionalismo africano, social democrata\",\n",
        "    \"premios\":\"Premio Nobel de la Paz, Medalla Presidencial de la Libertad, Premio Lenin de la Paz\",\n",
        "    \"ocupación\":\"abogado, activista\",\n",
        "    \"partido político\":\"Congreso Nacional Africano\",\n",
        "    \"afiliaciones\":\"Partido Comunista Sudafricano Umkhonto we Sizwe\",\n",
        "    \"lengua materna\":\"Xhosa\",\n",
        "    \"religión\":\"Metodista\",\n",
        "    \"miembro de\":\"Academia Estadounidense de las Artes y las Ciencias\",\n",
        "}\n",
        "wikipedia\n",
        "\n"
      ],
      "execution_count": null,
      "outputs": []
    },
    {
      "cell_type": "code",
      "metadata": {
        "colab": {
          "base_uri": "https://localhost:8080/"
        },
        "id": "KqhlO9oIKwU0",
        "outputId": "bc8f9010-fe6a-4f9f-b8b9-f6dedb737d65"
      },
      "source": [
        "padres=[\"Gadla Henry Mphakanyiswa\", \"Nosekeni Fanny\"]\n",
        "hijos=[\"Madiba Thembi Thembekile\", \"Mazawike Mandela\",  \"Makgatho Mandela\", \"Makaziwe Mandela\",  \"Zenani Mandela-Dlamini\", \"Zindziswa Mandela-Hlongwane\"]\n",
        "conyuge=[\"Evelyn Mase\", \"Winnie Mandela\", \"Graça Machel\"]\n",
        "universidad=[\"Universidad de Fort Hare\", \"Universidad de Witwatersrand\", \"Universidad de Sudáfrica (B.A.)\"]\n",
        "premios=[\"Premio Nobel de la Paz\", \"Medalla Presidencial de la Libertad\", \"Premio Lenin de la Paz\"]\n",
        "ocupacion=[\"abogado\", \"activista\"]\n",
        "ideologia=[\"nacionalismo africano\", \"social democrata\"]\n",
        "wikipedia= {\n",
        "    \"nombre\":\"Nelson Mandela\",\n",
        "    \"nombre de nacimiento\":\"Rolihllahla Mandela\",\n",
        "    \"nombre en xhosa\":\"Nelson Rolihlahla Mandela\",\n",
        "    \"apodo\":\"Madiba\",\n",
        "    \"nacimiento\":\"18 de julio de 1918\",\n",
        "    \"edad\":\"fallecio a los 95 años\",\n",
        "    \"causa de su muerte\":\"Infección respiratoria aguda\",\n",
        "    \"sepultura\":\"Qunu\",\n",
        "    \"país\":\"Sudafrica\",\n",
        "    \"padres\":padres,\n",
        "    \"cónyuge\":conyuge,\n",
        "    \"hijos\":hijos,\n",
        "    \"estudio en\":universidad,\n",
        "    \"ideología\":ideologia,\n",
        "    \"premios\":premios,\n",
        "    \"ocupación\":ocupacion,\n",
        "    \"partido político\":\"Congreso Nacional Africano\",\n",
        "    \"afiliaciones\":\"Partido Comunista Sudafricano Umkhonto we Sizwe\",\n",
        "    \"lengua materna\":\"Xhosa\",\n",
        "    \"religión\":\"Metodista\",\n",
        "    \"miembro de\":\"Academia Estadounidense de las Artes y las Ciencias\",\n",
        "}\n",
        "wikipedia"
      ],
      "execution_count": 8,
      "outputs": [
        {
          "output_type": "execute_result",
          "data": {
            "text/plain": [
              "{'afiliaciones': 'Partido Comunista Sudafricano Umkhonto we Sizwe',\n",
              " 'apodo': 'Madiba',\n",
              " 'causa de su muerte': 'Infección respiratoria aguda',\n",
              " 'cónyuge': ['Evelyn Mase', 'Winnie Mandela', 'Graça Machel'],\n",
              " 'edad': 'fallecio a los 95 años',\n",
              " 'estudio en': ['Universidad de Fort Hare',\n",
              "  'Universidad de Witwatersrand',\n",
              "  'Universidad de Sudáfrica (B.A.)'],\n",
              " 'hijos': ['Madiba Thembi Thembekile',\n",
              "  'Mazawike Mandela',\n",
              "  'Makgatho Mandela',\n",
              "  'Makaziwe Mandela',\n",
              "  'Zenani Mandela-Dlamini',\n",
              "  'Zindziswa Mandela-Hlongwane'],\n",
              " 'ideología': ['nacionalismo africano', 'social democrata'],\n",
              " 'lengua materna': 'Xhosa',\n",
              " 'miembro de': 'Academia Estadounidense de las Artes y las Ciencias',\n",
              " 'nacimiento': '18 de julio de 1918',\n",
              " 'nombre': 'Nelson Mandela',\n",
              " 'nombre de nacimiento': 'Rolihllahla Mandela',\n",
              " 'nombre en xhosa': 'Nelson Rolihlahla Mandela',\n",
              " 'ocupación': ['abogado', 'activista'],\n",
              " 'padres': ['Gadla Henry Mphakanyiswa', 'Nosekeni Fanny'],\n",
              " 'partido político': 'Congreso Nacional Africano',\n",
              " 'país': 'Sudafrica',\n",
              " 'premios': ['Premio Nobel de la Paz',\n",
              "  'Medalla Presidencial de la Libertad',\n",
              "  'Premio Lenin de la Paz'],\n",
              " 'religión': 'Metodista',\n",
              " 'sepultura': 'Qunu'}"
            ]
          },
          "metadata": {
            "tags": []
          },
          "execution_count": 8
        }
      ]
    }
  ]
}